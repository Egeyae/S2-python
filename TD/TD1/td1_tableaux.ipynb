{
 "cells": [
  {
   "cell_type": "markdown",
   "metadata": {
    "deletable": false,
    "editable": false,
    "run_control": {
     "frozen": true
    }
   },
   "source": [
    "# TD : Listes en python "
   ]
  },
  {
   "cell_type": "markdown",
   "metadata": {
    "deletable": false,
    "editable": false,
    "run_control": {
     "frozen": true
    }
   },
   "source": [
    "## Exercice 1 : Insertion dans un tableau"
   ]
  },
  {
   "cell_type": "markdown",
   "metadata": {
    "deletable": false,
    "editable": false,
    "run_control": {
     "frozen": true
    }
   },
   "source": [
    "Définir une fonction `insertion_tableau` prenant en paramètre une liste `L`, une valeur `v` et un indice `i` et insérant la valeur `v` à l'indice `i` dans `L` (fonction comparable à `L.insert(i,v)` définie en Python). \n",
    "\n",
    "Cette fonction ne doit pas utiliser la fonction `L.insert`, seule la fonction  `L.append` est permise pour augmenter la taille du tableau."
   ]
  },
  {
   "cell_type": "code",
   "execution_count": 30,
   "metadata": {
    "tags": [
     "answer"
    ]
   },
   "outputs": [
    {
     "name": "stdout",
     "output_type": "stream",
     "text": [
      "[0, 2, 3, 1, 4]\n"
     ]
    }
   ],
   "source": [
    "def insertion_tableau(liste, value, i):\n",
    "    \"\"\"\n",
    "    Insère value à l'indice i dans liste si possible\n",
    "    En cas de i invalide, IndexError\n",
    "\n",
    "    Paramètres:\n",
    "        liste: list() à modifier\n",
    "        value: la valeur à insérer\n",
    "        i: l'index où insérer la valeur\n",
    "\n",
    "    O(N)\n",
    "    \"\"\"\n",
    "    # check if pas d'erreur d'input\n",
    "    if not 0 <= i <= len(liste)-1:\n",
    "        raise IndexError(f\"i has to be a valid index (0 <= i <= {len(liste)-1})\")\n",
    "\n",
    "    # DEBUT ALGO\n",
    "    liste.append(liste[-1])\n",
    "    j = len(liste) -1\n",
    "    while j != i+1:\n",
    "        liste[j] = liste[j-1]\n",
    "        j -= 1\n",
    "    liste[j] = value\n",
    "    # FIN ALGO\n",
    "    \n",
    "    # AVC LES SLICES\n",
    "    # liste = liste[:i] + [value] + liste[i:]\n",
    "    return liste\n",
    "\n",
    "print(insertion_tableau([0, 2, 3, 4], 1, 3))\n"
   ]
  },
  {
   "cell_type": "markdown",
   "metadata": {
    "deletable": false,
    "editable": false,
    "run_control": {
     "frozen": true
    }
   },
   "source": [
    "Quelle est la complexité asymptotique de la fonction `insertion_tableau` ?"
   ]
  },
  {
   "cell_type": "markdown",
   "metadata": {
    "deletable": false,
    "run_control": {
     "frozen": false
    },
    "tags": []
   },
   "source": [
    "**Réponse :** O(n+1)\n",
    "\n"
   ]
  },
  {
   "cell_type": "markdown",
   "metadata": {
    "deletable": false,
    "editable": false,
    "run_control": {
     "frozen": true
    }
   },
   "source": [
    "## Exercice 2 : suppression d'un élément dans un tableau\n",
    "\n",
    "Définir la fonction `suppression_tableau` prenant en paramètre un tableau et un indice et supprimant dans le tableau l'élément se trouvant à l'indice donné (fonction similaire à `L.pop(i)`). \n",
    "\n",
    "Pour supprimer un élément, la fonction peut juste appeler la fonction `L.pop()` (sans argument) pour supprimer la dernière case."
   ]
  },
  {
   "cell_type": "code",
   "execution_count": 16,
   "metadata": {
    "tags": [
     "answer"
    ]
   },
   "outputs": [
    {
     "name": "stdout",
     "output_type": "stream",
     "text": [
      "[0, 2, 4]\n"
     ]
    }
   ],
   "source": [
    "def suppression_tableau(liste, i):\n",
    "    \"\"\"\n",
    "    Supprime la valeur à l'indice i dans liste si possible\n",
    "    En cas de i invalide, IndexError\n",
    "\n",
    "    Paramètres:\n",
    "        liste: list() à modifier\n",
    "        i: l'index où supprimer la valeur\n",
    "\n",
    "    O(N)\n",
    "    \"\"\"\n",
    "    if not 0 <= i <= len(liste)-1:\n",
    "        raise IndexError(f\"i has to be a valid index (0 <= i <= {len(liste)-1})\")\n",
    "\n",
    "    # DEBUT ALGO\n",
    "    for j in range(i, len(liste)-1):\n",
    "        liste[j] = liste[j+1]\n",
    "    liste.pop()\n",
    "    # FIN ALGO\n",
    "    return liste\n",
    "\n",
    "print(suppression_tableau([0, 2, 3, 4], 2))\n"
   ]
  },
  {
   "cell_type": "markdown",
   "metadata": {
    "deletable": false,
    "editable": false,
    "run_control": {
     "frozen": true
    }
   },
   "source": [
    "Quelle est la complexité de la fonction `suppression_tableau` ?"
   ]
  },
  {
   "cell_type": "markdown",
   "metadata": {
    "deletable": false,
    "run_control": {
     "frozen": false
    },
    "tags": [
     "answer"
    ]
   },
   "source": [
    "**Réponse :** O(N)\n",
    "\n",
    "\n"
   ]
  },
  {
   "cell_type": "markdown",
   "metadata": {
    "deletable": false,
    "editable": false,
    "run_control": {
     "frozen": true
    }
   },
   "source": [
    "## Exercice 3 : Copie d'un tableau"
   ]
  },
  {
   "cell_type": "markdown",
   "metadata": {
    "deletable": false,
    "editable": false,
    "run_control": {
     "frozen": true
    }
   },
   "source": [
    "Définir la fonction `copie_tableau` retournant une copie du tableau `L` passé en paramètre (fonction comparable à `L.copy()`). \n",
    "\n",
    "Cette fonction ne doit pas utiliser la fonction `L.copy`, seule la fonction `L.append` est permise pour augmenter la taille du tableau."
   ]
  },
  {
   "cell_type": "code",
   "execution_count": 17,
   "metadata": {
    "tags": [
     "answer"
    ]
   },
   "outputs": [],
   "source": [
    "def copie_tableau(liste):\n",
    "    \"\"\"\n",
    "    Retourne une copie conforme d'un tableau\n",
    "\n",
    "    Paramètres:\n",
    "        liste: list() à copier\n",
    "\n",
    "    O(N)\n",
    "    \"\"\"\n",
    "    return [x for x in liste]\n"
   ]
  },
  {
   "cell_type": "markdown",
   "metadata": {
    "deletable": false,
    "editable": false,
    "run_control": {
     "frozen": true
    }
   },
   "source": [
    "Quelle est la complexité asymptotique de la fonction `copie_tableau` ?"
   ]
  },
  {
   "cell_type": "markdown",
   "metadata": {
    "deletable": false,
    "run_control": {
     "frozen": false
    },
    "tags": [
     "answer"
    ]
   },
   "source": [
    "**Réponse :** O(N)\n",
    "\n",
    "\n"
   ]
  },
  {
   "cell_type": "markdown",
   "metadata": {
    "deletable": false,
    "editable": false,
    "run_control": {
     "frozen": true
    }
   },
   "source": [
    "## Exercice 4 : Fonctions sur des  listes (tableaux) triées ou non triées"
   ]
  },
  {
   "cell_type": "markdown",
   "metadata": {
    "deletable": false,
    "editable": false,
    "run_control": {
     "frozen": true
    }
   },
   "source": [
    "Les questions de cet exercice ont pour objet de manipuler les listes/tableaux en Python et de comparer ce qui se passe si on travaille avec des tableaux triés ou des tableaux quelconques. Pour chacune des fonctions à implémenter, on définira deux versions : \n",
    "\n",
    "* une première version prendra en paramètre une liste de nombres quelconques. Pour plus d'efficacité, la fonction pourra modifier l'ordre des éléments dans la liste,\n",
    "\n",
    "* la seconde version prendra en paramètre une liste de nombres triés dans l'ordre croissant ; la liste devra rester triée."
   ]
  },
  {
   "cell_type": "markdown",
   "metadata": {
    "deletable": false,
    "editable": false,
    "run_control": {
     "frozen": true
    }
   },
   "source": [
    "### Question 1 : Minimum d'un tableau"
   ]
  },
  {
   "cell_type": "markdown",
   "metadata": {
    "deletable": false,
    "editable": false,
    "run_control": {
     "frozen": true
    }
   },
   "source": [
    "* Définir la fonction `minimum_tableau` prenant en paramètre un tableau de nombres et retournant le minimum."
   ]
  },
  {
   "cell_type": "code",
   "execution_count": 18,
   "metadata": {
    "tags": [
     "answer"
    ]
   },
   "outputs": [
    {
     "name": "stdout",
     "output_type": "stream",
     "text": [
      "1\n"
     ]
    }
   ],
   "source": [
    "def minimum_tableau(tableau):\n",
    "    \"\"\"\n",
    "    Retourne le minimum d'un tableau non trié\n",
    "\n",
    "    Paramètres:\n",
    "        tableau: list()\n",
    "\n",
    "    O(N)\n",
    "    \"\"\"\n",
    "    m = tableau[0]\n",
    "    for e in tableau[1:]:\n",
    "        if e < m:\n",
    "            m = e\n",
    "    return m\n",
    "\n",
    "print(minimum_tableau([36, 2, 49, 1, 30])) #1\n"
   ]
  },
  {
   "cell_type": "markdown",
   "metadata": {
    "deletable": false,
    "editable": false,
    "run_control": {
     "frozen": true
    }
   },
   "source": [
    "* Définir la fonction `minimum_tableau_trie` prenant en paramètre un tableau de nombres triés dans l'ordre croissant et retournant le minimum."
   ]
  },
  {
   "cell_type": "code",
   "execution_count": 19,
   "metadata": {
    "tags": [
     "answer"
    ]
   },
   "outputs": [],
   "source": [
    "def minimum_tableau_trie(tableau):\n",
    "    \"\"\"\n",
    "    Retourne le minimum d'un tableau trié\n",
    "\n",
    "    Paramètres:\n",
    "        tableau: list() triée\n",
    "\n",
    "    O(1)\n",
    "    \"\"\"\n",
    "    return tableau[0]\n"
   ]
  },
  {
   "cell_type": "markdown",
   "metadata": {
    "deletable": false,
    "editable": false,
    "run_control": {
     "frozen": true
    }
   },
   "source": [
    "- Quelle est la complexité dans le pire des cas de chacune de ces fonctions ?"
   ]
  },
  {
   "cell_type": "markdown",
   "metadata": {
    "deletable": false,
    "run_control": {
     "frozen": false
    },
    "tags": [
     "answer"
    ]
   },
   "source": [
    "**Réponse :** O(N) et O(1)\n",
    "\n",
    "\n"
   ]
  },
  {
   "cell_type": "markdown",
   "metadata": {
    "deletable": false,
    "editable": false,
    "run_control": {
     "frozen": true
    }
   },
   "source": [
    "### Question 2 : Ajout d'un élément"
   ]
  },
  {
   "cell_type": "markdown",
   "metadata": {
    "deletable": false,
    "editable": false,
    "run_control": {
     "frozen": true
    }
   },
   "source": [
    "* Définir la fonction `ajouter_tableau` ajoutant un nombre à un tableau de nombres."
   ]
  },
  {
   "cell_type": "code",
   "execution_count": 20,
   "metadata": {
    "tags": [
     "answer"
    ]
   },
   "outputs": [
    {
     "name": "stdout",
     "output_type": "stream",
     "text": [
      "[0, 2, 1]\n"
     ]
    }
   ],
   "source": [
    "def ajouter_tableau(liste, value):\n",
    "    \"\"\"\n",
    "    Ajoute une valeur à la liste donnée sans prendre compte de l'ordre (cf .append())\n",
    "\n",
    "    Paramètres:\n",
    "        liste: list() à modifier\n",
    "        valeur: valeur à ajouter\n",
    "\n",
    "    O(1)\n",
    "    \"\"\"\n",
    "    return liste + [value]\n",
    "\n",
    "print(ajouter_tableau([0, 2], 1))\n"
   ]
  },
  {
   "cell_type": "markdown",
   "metadata": {
    "deletable": false,
    "editable": false,
    "run_control": {
     "frozen": true
    }
   },
   "source": [
    "* Définir la fonction `ajouter_tableau_trie` ajoutant un nombre à un tableau trié."
   ]
  },
  {
   "cell_type": "code",
   "execution_count": 29,
   "metadata": {
    "tags": [
     "answer"
    ]
   },
   "outputs": [
    {
     "name": "stdout",
     "output_type": "stream",
     "text": [
      "[0, 1, 2, 3, 4, 5, 8, 10, 1287, 1288]\n"
     ]
    }
   ],
   "source": [
    "def ajouter_tableau_trie(liste, value):\n",
    "    \"\"\"\n",
    "    Ajoute une valeur à la liste triée donné et en gardant l'ordre\n",
    "\n",
    "    Paramètres:\n",
    "        liste: list() à modifier\n",
    "        valeur: valeur à ajouter\n",
    "\n",
    "    O(log2(n))\n",
    "    \"\"\"\n",
    "    index = len(liste) // 2\n",
    "    if value < liste[0]:\n",
    "        return [value] + liste\n",
    "    elif value > liste[-1]:\n",
    "        return liste + [value]\n",
    "    else:\n",
    "        while 1:\n",
    "            if value < liste[index]:\n",
    "                index -= len(liste[:index]) // 2\n",
    "            elif value > liste[index+1]:\n",
    "                index += len(liste[index:]) // 2\n",
    "            else:\n",
    "                return insertion_tableau(liste, value, index)\n",
    "print(ajouter_tableau_trie([0, 1, 2, 3, 4, 5, 8, 10, 1287], 1288))\n",
    "\n"
   ]
  },
  {
   "cell_type": "markdown",
   "metadata": {
    "deletable": false,
    "editable": false,
    "run_control": {
     "frozen": true
    }
   },
   "source": [
    "- Quelle est la complexité dans le pire des cas de chacune de ces fonctions ?"
   ]
  },
  {
   "cell_type": "markdown",
   "metadata": {
    "deletable": false,
    "run_control": {
     "frozen": false
    },
    "tags": [
     "answer"
    ]
   },
   "source": [
    "**Réponse :** O(1) et O(log2(n))\n",
    "\n",
    "\n"
   ]
  },
  {
   "cell_type": "markdown",
   "metadata": {
    "deletable": false,
    "editable": false,
    "run_control": {
     "frozen": true
    }
   },
   "source": [
    "### Question 3 : Suppression d'un élément"
   ]
  },
  {
   "cell_type": "markdown",
   "metadata": {
    "deletable": false,
    "editable": false,
    "run_control": {
     "frozen": true
    }
   },
   "source": [
    "* Définir la fonction `supprimer_tableau` prenant en paramètre un tableau et un indice `id` et supprimant dans le tableau la valeur d'indice `id`.\n",
    "\n",
    "  On utilisera pour cela la fonction `L.pop()` qui supprime la dernière case d'un tableau, mais pas la fonction `L.pop(i)`"
   ]
  },
  {
   "cell_type": "code",
   "execution_count": 22,
   "metadata": {
    "tags": [
     "answer"
    ]
   },
   "outputs": [
    {
     "name": "stdout",
     "output_type": "stream",
     "text": [
      "[0, 2, 4]\n"
     ]
    }
   ],
   "source": [
    "def suppression_tableau_nontrie(liste, i):\n",
    "    \"\"\"\n",
    "    Supprime la valeur à l'indice i d'une liste non triée (sans prendre en compte l'ordre)\n",
    "\n",
    "    Paramètres:\n",
    "        liste: list() à modifier\n",
    "        valeur: valeur à ajouter\n",
    "\n",
    "    O(1)\n",
    "    \"\"\"\n",
    "    if not 0 <= i <= len(liste)-1:\n",
    "        raise IndexError(f\"i has to be a valid index (0 <= i <= {len(liste)-1})\")\n",
    "\n",
    "    # DEBUT ALGO\n",
    "    liste[i] = liste[-1]\n",
    "    liste.pop()\n",
    "    # FIN ALGO\n",
    "    return liste\n",
    "\n",
    "print(suppression_tableau_nontrie([0, 2, 3, 4], 2))"
   ]
  },
  {
   "cell_type": "markdown",
   "metadata": {
    "deletable": false,
    "editable": false,
    "run_control": {
     "frozen": true
    }
   },
   "source": [
    "* Définir la fonction `supprimer_tableau_trie` prenant en paramètre un tableau trié et un indice `id` et supprimant dans le tableau la valeur d'indice `id`."
   ]
  },
  {
   "cell_type": "code",
   "execution_count": 23,
   "metadata": {
    "tags": [
     "answer"
    ]
   },
   "outputs": [
    {
     "name": "stdout",
     "output_type": "stream",
     "text": [
      "[0, 2, 4]\n"
     ]
    }
   ],
   "source": [
    "def suppression_tableau_trie(liste, i):\n",
    "    \"\"\"\n",
    "    Supprime la valeur à l'indice i d'une liste triée (en prenant en compte l'ordre)\n",
    "\n",
    "    Paramètres:\n",
    "        liste: list() à modifier\n",
    "        valeur: valeur à ajouter\n",
    "\n",
    "    O(N)\n",
    "    \"\"\"\n",
    "    if not 0 <= i <= len(liste)-1:\n",
    "        raise IndexError(f\"i has to be a valid index (0 <= i <= {len(liste)-1})\")\n",
    "\n",
    "    # DEBUT ALGO\n",
    "    for j in range(i, len(liste)-1):\n",
    "        liste[j] = liste[j+1]\n",
    "    liste.pop()\n",
    "    # FIN ALGO\n",
    "    return liste\n",
    "\n",
    "print(suppression_tableau_trie([0, 2, 3, 4], 2))\n"
   ]
  },
  {
   "cell_type": "markdown",
   "metadata": {
    "deletable": false,
    "editable": false,
    "run_control": {
     "frozen": true
    }
   },
   "source": [
    "- Quelle est la complexité dans le pire des cas de chacune de ces fonctions ? O(1) et O(N)"
   ]
  },
  {
   "cell_type": "markdown",
   "metadata": {
    "deletable": false,
    "run_control": {
     "frozen": false
    },
    "tags": [
     "answer"
    ]
   },
   "source": [
    "**Réponse :** Écrire votre réponse ici.\n",
    "\n",
    "\n"
   ]
  },
  {
   "cell_type": "markdown",
   "metadata": {
    "deletable": false,
    "editable": false,
    "run_control": {
     "frozen": true
    }
   },
   "source": [
    "## Exercice 5 : Réarrangement de tableau**"
   ]
  },
  {
   "cell_type": "markdown",
   "metadata": {
    "deletable": false,
    "editable": false,
    "run_control": {
     "frozen": true
    }
   },
   "source": [
    "### Question 1\n",
    "\n",
    "Écrire une fonction `deplacer(T, k)` prenant en paramètre un tableau `T` et une valeur `k` et permutant les valeurs du tableau `T` de manière à ce que toutes les valeurs strictement inférieures à `k` soient au début de tableau. "
   ]
  },
  {
   "cell_type": "markdown",
   "metadata": {
    "deletable": false,
    "editable": false,
    "run_control": {
     "frozen": true
    }
   },
   "source": [
    "**Remarque :** L'ordre des éléments dans le tableau n'a pas d'importance tant que les éléments strictement inférieurs à `k` sont placés au début du tableau."
   ]
  },
  {
   "cell_type": "code",
   "execution_count": 31,
   "metadata": {
    "tags": [
     "answer"
    ]
   },
   "outputs": [
    {
     "name": "stdout",
     "output_type": "stream",
     "text": [
      "[2, 4, 1, 32, 8, 10]\n"
     ]
    }
   ],
   "source": [
    "def deplacer(T, k):\n",
    "    \"\"\"\n",
    "    Place toutes les valeurs strictement inférieur à k en début de tableau (sans prendre en compte l'ordre)\n",
    "\n",
    "    Paramètres:\n",
    "        liste: list() à modifier\n",
    "        k: valeur de séparation\n",
    "\n",
    "    O(N)\n",
    "    \"\"\"\n",
    "    i, j = 0, len(T)-1\n",
    "\n",
    "    while i != j:\n",
    "        if T[i] < k:\n",
    "            i += 1\n",
    "        elif T[j] < k: \n",
    "            T[i], T[j] = T[j], T[i]\n",
    "            i += 1\n",
    "        else:\n",
    "            j -= 1\n",
    "    return T\n",
    "        \n",
    "\n",
    "print(deplacer([2, 4, 32, 1, 8, 10], 5))"
   ]
  },
  {
   "cell_type": "markdown",
   "metadata": {
    "deletable": false,
    "editable": false,
    "run_control": {
     "frozen": true
    }
   },
   "source": [
    "### Question 2\n",
    "\n",
    "Définir une fonction de tests unitaires de la fonction `deplacer`."
   ]
  },
  {
   "cell_type": "code",
   "execution_count": 36,
   "metadata": {
    "tags": []
   },
   "outputs": [
    {
     "name": "stdout",
     "output_type": "stream",
     "text": [
      "[TEST 1] OK\n",
      "[TEST 2] OK\n",
      "[TEST 3] OK\n"
     ]
    }
   ],
   "source": [
    "def test_deplacer():\n",
    "    \"\"\"\n",
    "    Teste si la fonction deplacer() fonctionne\n",
    "    \"\"\"\n",
    "\n",
    "    liste_test = list(range(100))[::-1]\n",
    "    liste_resultat_50 = deplacer(liste_test, 50)\n",
    "    liste_resultat_23 = deplacer(liste_test, 23)\n",
    "    liste_resultat_100 = deplacer(liste_test, 100)\n",
    "\n",
    "    if all([x < 50 for x in liste_resultat_50[:50]]):\n",
    "        print(\"[TEST 1] OK\")\n",
    "    else:\n",
    "        print(\"[TEST 1 ] FAIL\")\n",
    "    \n",
    "    if all([x < 23 for x in liste_resultat_23[:23]]):\n",
    "        print(\"[TEST 2] OK\")\n",
    "    else:\n",
    "        print(\"[TEST 2 ] FAIL\")\n",
    "    \n",
    "    if all([x < 100 for x in liste_resultat_100[:]]):\n",
    "        print(\"[TEST 3] OK\")\n",
    "    else:\n",
    "        print(\"[TEST 3 ] FAIL\")\n",
    "        \n",
    "\n",
    "test_deplacer()\n",
    "\n",
    "\n",
    "### ATTENTION: TEST UNITAIRES DOIVENT ETRE SIMPLES !! => pas de générateurs..."
   ]
  }
 ],
 "metadata": {
  "celltoolbar": "Format de la Cellule Texte Brut",
  "kernelspec": {
   "display_name": "Python 3",
   "language": "python",
   "name": "python3"
  },
  "language_info": {
   "codemirror_mode": {
    "name": "ipython",
    "version": 3
   },
   "file_extension": ".py",
   "mimetype": "text/x-python",
   "name": "python",
   "nbconvert_exporter": "python",
   "pygments_lexer": "ipython3",
   "version": "3.10.12"
  },
  "toc": {
   "base_numbering": 1,
   "nav_menu": {},
   "number_sections": false,
   "sideBar": false,
   "skip_h1_title": false,
   "title_cell": "Table of Contents",
   "title_sidebar": "Contents",
   "toc_cell": false,
   "toc_position": {},
   "toc_section_display": false,
   "toc_window_display": false
  }
 },
 "nbformat": 4,
 "nbformat_minor": 5
}
