{
 "cells": [
  {
   "cell_type": "markdown",
   "metadata": {},
   "source": [
    "# <center>  Fichiers texte - TD </center>"
   ]
  },
  {
   "cell_type": "markdown",
   "metadata": {},
   "source": [
    "## Exercice 1 :  Écriture/Lecture dans un fichier\n",
    "\n",
    "### Question 1\n",
    "Définir un programme qui écrit dans un fichier tous les entiers inférieurs à 10 000. Chaque entier est sur une ligne différente du fichier. Puis faire un programme qui lit le contenu de ce fichier et mémorise toutes les valeurs dans un tableau."
   ]
  },
  {
   "cell_type": "code",
   "execution_count": 5,
   "metadata": {},
   "outputs": [
    {
     "name": "stdout",
     "output_type": "stream",
     "text": [
      "[9991, 9992, 9993, 9994, 9995, 9996, 9997, 9998, 9999, 10000]\n"
     ]
    }
   ],
   "source": [
    "def write_up_to_n(n, filename=\"./numbers.txt\"):\n",
    "    with open(filename, \"w\") as f:\n",
    "        for i in range(n):\n",
    "            f.write(str(i+1)+\"\\n\")\n",
    "\n",
    "def read_num_file(filename=\"./numbers.txt\"):\n",
    "    with open(filename, \"r\") as f:\n",
    "        return [int(x.strip()) for x in f.readlines()]\n",
    "\n",
    "print(read_num_file()[-10:])"
   ]
  },
  {
   "cell_type": "markdown",
   "metadata": {},
   "source": [
    "### Question 2\n",
    "Refaire la même chose qu'à la question précédente, mais cette fois-ci tous les entiers sont sur une même ligne et sont séparés par un `;`."
   ]
  },
  {
   "cell_type": "code",
   "execution_count": 7,
   "metadata": {},
   "outputs": [
    {
     "name": "stdout",
     "output_type": "stream",
     "text": [
      "[9991, 9992, 9993, 9994, 9995, 9996, 9997, 9998, 9999, 10000]\n"
     ]
    }
   ],
   "source": [
    "def write_up_to_n_semicolon(n, filename=\"./numbers.txt\"):\n",
    "    with open(filename, \"w\") as f:\n",
    "        for i in range(n):\n",
    "            f.write(str(i+1))\n",
    "            if i != n-1:\n",
    "                f.write(\";\")\n",
    "\n",
    "def read_num_file_semicolon(filename=\"./numbers.txt\"):\n",
    "    with open(filename, \"r\") as f:\n",
    "        return [int(x.strip()) for x in f.read().split(\";\")]\n",
    "\n",
    "write_up_to_n_semicolon(10000)\n",
    "print(read_num_file_semicolon()[-10:])\n",
    "\n",
    "\n"
   ]
  },
  {
   "cell_type": "markdown",
   "metadata": {},
   "source": [
    "## Exercice 2:  Lecture/Écriture dans un fichier\n",
    "\n",
    "### Question 1: Écriture dans un fichier\n",
    "Définir un programme qui écrit dans un fichier nommé `'prenoms.txt'` les prénoms contenus dans le tableau initial de l'exercice précédant. Chaque prénom sera écrit sur une ligne différente:"
   ]
  },
  {
   "cell_type": "code",
   "execution_count": 10,
   "metadata": {},
   "outputs": [],
   "source": [
    "prenoms = [\n",
    "    \"Lysa\",\n",
    "    \"Ellyna\",\n",
    "    \"Samy\",\n",
    "    \"Elouan\",\n",
    "    \"Ines\",\n",
    "    \"Laurine\",\n",
    "    \"Alex\",\n",
    "    \"Julien\",\n",
    "    \"Farah\",\n",
    "    \"Julia\",\n",
    "    \"Emerson\",\n",
    "    \"Mathis\",\n",
    "    \"Jessica\",\n",
    "    \"Lina\",\n",
    "    \"Alyssa\",\n",
    "    \"Mouna\"\n",
    "]\n",
    "\n",
    "def write_names(filename=\"./prenoms.txt\"):\n",
    "    with open(filename, \"w\") as f:\n",
    "        for name in prenoms:\n",
    "            f.write(name+\"\\n\")\n",
    "\n",
    "write_names()"
   ]
  },
  {
   "cell_type": "markdown",
   "metadata": {},
   "source": [
    "### Question 2:  Lecture dans un fichier\n",
    "\n",
    "Définir un programme qui lit les prénoms du fichier `'prenoms.txt'` et qui affiche en plus du prénom lu le nombre de caractères qui le constitue. Chaque prénom et son nombre de caractère seront affichés sur une ligne différente et séparés par une virgule."
   ]
  },
  {
   "cell_type": "code",
   "execution_count": 12,
   "metadata": {},
   "outputs": [
    {
     "name": "stdout",
     "output_type": "stream",
     "text": [
      "Lysa, 4\n",
      "Ellyna, 6\n",
      "Samy, 4\n",
      "Elouan, 6\n",
      "Ines, 4\n",
      "Laurine, 7\n",
      "Alex, 4\n",
      "Julien, 6\n",
      "Farah, 5\n",
      "Julia, 5\n",
      "Emerson, 7\n",
      "Mathis, 6\n",
      "Jessica, 7\n",
      "Lina, 4\n",
      "Alyssa, 6\n",
      "Mouna, 5\n"
     ]
    }
   ],
   "source": [
    "def read_names_get_size(filename=\"./prenoms.txt\"):\n",
    "    with open(filename, \"r\") as f:\n",
    "        for line in f.readlines():\n",
    "            line = line.strip()\n",
    "            print(f'{line}, {len(line)}')\n",
    "\n",
    "read_names_get_size()"
   ]
  },
  {
   "cell_type": "markdown",
   "metadata": {},
   "source": [
    "### Question 3: Lecture et Ecriture dans un fichier\n",
    "\n",
    "Définir un programme qui, au moyen d'une seule boucle, lit les prénoms du fichier `prenoms.txt` et qui écrit dans un fichier `prenoms.csv` en plus du prénom le nombre de caractère qui le constitue. Sur chaque ligne du fichier le prénom et sa longueur sont séparé par une virgule."
   ]
  },
  {
   "cell_type": "code",
   "execution_count": 16,
   "metadata": {},
   "outputs": [],
   "source": [
    "def write_names_stats(input_filename=\"./prenoms.txt\", output_filename=\"./prenoms.csv\"):\n",
    "    _input = open(input_filename, \"r\")\n",
    "    _output = open(output_filename, \"w\")\n",
    "\n",
    "    for line in _input.readlines():\n",
    "        line = line.strip()\n",
    "        _output.write(f'{line},{len(line)}\\n')\n",
    "\n",
    "    _input.close()\n",
    "    _output.close()\n",
    "\n",
    "write_names_stats()"
   ]
  },
  {
   "cell_type": "markdown",
   "metadata": {},
   "source": [
    "## Exercice 3 : JSON\n",
    "\n",
    "Écrire un programme permettant à partir d’un fichier texte en français d’en déduire la fréquence d’apparition des caractères qu’il contient. Le résultat de cette analyse sera consigné dans un fichier JSON `files/statistiques.json`. Pour des statistiques fiables, on utilisera un texte assez long disponible dans le fichier `files/zadig.txt`."
   ]
  },
  {
   "cell_type": "code",
   "execution_count": 32,
   "metadata": {},
   "outputs": [],
   "source": [
    "import json\n",
    "\n",
    "def file_stats(filename=\"./zadig.txt\"):\n",
    "    letters = {}\n",
    "    _input = open(filename, \"r\").read().replace(\" \", \"\").replace(\"\\n\", \"\")\n",
    "    increment = 1/len(_input)\n",
    "    for c in _input:\n",
    "        if c in letters.keys():\n",
    "            letters[c] += increment\n",
    "        else:\n",
    "            letters[c] = increment\n",
    "    \n",
    "    _output = open(\"statistiques.json\", \"w\")\n",
    "    json.dump(letters, _output, indent=4)\n",
    "\n",
    "    _output.close()\n",
    "\n",
    "file_stats()"
   ]
  }
 ],
 "metadata": {
  "kernelspec": {
   "display_name": "Python 3",
   "language": "python",
   "name": "python3"
  },
  "language_info": {
   "codemirror_mode": {
    "name": "ipython",
    "version": 3
   },
   "file_extension": ".py",
   "mimetype": "text/x-python",
   "name": "python",
   "nbconvert_exporter": "python",
   "pygments_lexer": "ipython3",
   "version": "3.10.12"
  },
  "latex_envs": {
   "LaTeX_envs_menu_present": true,
   "autoclose": false,
   "autocomplete": true,
   "bibliofile": "biblio.bib",
   "cite_by": "apalike",
   "current_citInitial": 1,
   "eqLabelWithNumbers": true,
   "eqNumInitial": 1,
   "hotkeys": {
    "equation": "Ctrl-E",
    "itemize": "Ctrl-I"
   },
   "labels_anchors": false,
   "latex_user_defs": false,
   "report_style_numbering": false,
   "user_envs_cfg": false
  },
  "toc": {
   "base_numbering": 1,
   "nav_menu": {},
   "number_sections": true,
   "sideBar": true,
   "skip_h1_title": false,
   "title_cell": "Table of Contents",
   "title_sidebar": "Contents",
   "toc_cell": false,
   "toc_position": {},
   "toc_section_display": true,
   "toc_window_display": false
  }
 },
 "nbformat": 4,
 "nbformat_minor": 2
}
